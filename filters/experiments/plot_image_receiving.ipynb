{
 "cells": [
  {
   "cell_type": "code",
   "execution_count": 2,
   "metadata": {},
   "outputs": [],
   "source": [
    "import os\n",
    "os.chdir('..')\n",
    "all_images=[]\n",
    "\n",
    "with open('data/all_images') as f:\n",
    "    for line in f:\n",
    "        all_images.append(line.strip().split('/')[-1])"
   ]
  },
  {
   "cell_type": "code",
   "execution_count": 5,
   "metadata": {},
   "outputs": [],
   "source": [
    "from datetime import datetime\n",
    "def extract_info(file_name):\n",
    "  # Split the file name by underscore\n",
    "  parts = file_name.split(\"_\")\n",
    "  # Get the first part as datetime string\n",
    "  datetime_str = parts[0]+parts[1]\n",
    "  # Convert the datetime string to datetime.datetime format\n",
    "  datetime_obj = datetime.strptime(datetime_str, \"%Y%m%d%H%M%S\")\n",
    "  # Get the third part as satellite id\n",
    "  satellite_id = parts[2]\n",
    "  # Return a tuple of datetime and satellite id\n",
    "  return (datetime_obj, satellite_id, file_name)"
   ]
  },
  {
   "cell_type": "code",
   "execution_count": null,
   "metadata": {},
   "outputs": [],
   "source": [
    "img_info=[extract_info(img) for img in all_images]"
   ]
  },
  {
   "cell_type": "code",
   "execution_count": null,
   "metadata": {},
   "outputs": [],
   "source": []
  }
 ],
 "metadata": {
  "kernelspec": {
   "display_name": "torch",
   "language": "python",
   "name": "python3"
  },
  "language_info": {
   "codemirror_mode": {
    "name": "ipython",
    "version": 3
   },
   "file_extension": ".py",
   "mimetype": "text/x-python",
   "name": "python",
   "nbconvert_exporter": "python",
   "pygments_lexer": "ipython3",
   "version": "3.10.9"
  },
  "orig_nbformat": 4
 },
 "nbformat": 4,
 "nbformat_minor": 2
}
